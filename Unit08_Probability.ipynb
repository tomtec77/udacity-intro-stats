{
 "cells": [
  {
   "cell_type": "markdown",
   "metadata": {
    "collapsed": true
   },
   "source": [
    "# Unit 8 - Probability"
   ]
  },
  {
   "cell_type": "markdown",
   "metadata": {},
   "source": [
    "## Flipping coins\n",
    "**Probability**: a method to describe the anticipated outcome of the coin flips.\n",
    "\n",
    "**Fair coin**: it has the same chance to come up heads or tails.\n",
    "\n",
    "$$P(\\mathrm{heads}) = P(\\mathrm{tails}) = 0.5$$\n",
    "\n",
    "A probability of 1 means the event always occurs. The coin either comes up heads or tails, no other choice, so (using $H$ and $T$ as shorthand for heads and tails, respectively)\n",
    "\n",
    "$$P(H) + P(T) = 1$$\n",
    "\n",
    "**Loaded coin**: one of the sides comes up more frequently than the other.\n",
    "\n",
    "A basic law of probability (complementary outcomes): if $A$ is an event, and ${\\neg}A$ denotes the event not happening (\"not $A$\"), then\n",
    "\n",
    "$$P(A) = 1 - P({\\neg}A)$$"
   ]
  },
  {
   "cell_type": "markdown",
   "metadata": {},
   "source": [
    "## Two flips\n",
    "What is the probability of obtaining two heads after two consecutive coin flips? To find out we can use a **truth table**:\n",
    "\n",
    "First flip | Second flip\n",
    "-----------|------------\n",
    "H | H\n",
    "H | T\n",
    "T | H\n",
    "T | T\n",
    "\n",
    "All these outcomes are equally likely, so each one has a probability of 0.25 - same as multiplying the individual probabilities of each coin flip.\n",
    "\n",
    "For a loaded coin with $P(H)$ = 0.6,\n",
    "\n",
    "First flip | Second flip | Probability\n",
    "-----------|-------------|------------\n",
    "H | H | 0.36\n",
    "H | T | 0.24\n",
    "T | H | 0.24\n",
    "T | T | 0.16\n",
    "\n",
    "The truth table always covers all possible cases, so the probabilities add up to 1.\n",
    "\n",
    "Going to the extreme: if $P(H)$ = 1, the only possible case of two flips is {$H$, $H$}.\n",
    "\n",
    "What is the probability of seeing only one $H$ if we flip the coin twice? We can answer this by looking at the truth table. For a fair coin, $P(\\text{Exactly one }H)$ = 0.5 (sum the probabilities of the cases that match the condition)."
   ]
  },
  {
   "cell_type": "markdown",
   "metadata": {},
   "source": [
    "## Three flips\n",
    "\n",
    "What is the probability of only one $H$ in *three* flips (for a fair coin)?\n",
    "\n",
    "First flip | Second flip | Third flip | Probability\n",
    "-----------|-------------|------------|------------\n",
    "H | H | H | 0.125\n",
    "H | H | T | 0.125\n",
    "H | T | H | 0.125\n",
    "H | T | T | 0.125\n",
    "T | H | H | 0.125\n",
    "T | H | T | 0.125\n",
    "T | T | H | 0.125\n",
    "T | T | T | 0.125\n",
    "\n",
    "There are three cases that match the condition ({$H$, $T$, $T$}, {$T$, $H$, $T$}, {$T$, $T$, $H$}) out of 8 possibilities, so $P(\\text{Exactly one }H\\text{ in 3 flips})$ = 0.375.\n",
    "\n",
    "For a loaded coin with $P(H)$ = 0.6:\n",
    "\n",
    "First flip | Second flip | Third flip | Probability\n",
    "-----------|-------------|------------|------------\n",
    "H | H | H | 0.216\n",
    "H | H | T | 0.144\n",
    "H | T | H | 0.144\n",
    "H | T | T | 0.096\n",
    "T | H | H | 0.144\n",
    "T | H | T | 0.096\n",
    "T | T | H | 0.096\n",
    "T | T | T | 0.064\n",
    "\n",
    "From the truth table, $P(\\text{Exactly one }H\\text{ in 3 flips})$ = 0.288."
   ]
  },
  {
   "cell_type": "markdown",
   "metadata": {},
   "source": [
    "## Roll of a die\n",
    "\n",
    "Each possible roll of a 6-sided fair die has a probability of 1/6. The probability of the roll giving an even number is\n",
    "\n",
    "$$P(\\text{Die == even}) = \\frac{1}{2}$$\n",
    "\n",
    "because half of the possible results are even numbers.\n",
    "\n",
    "Suppose we throw a fair die twice. What is the probability of obtaining doubles (of any number)? There are 36 possible combinations of 2 out of 6 numbers, and 6 of those are doubles; so, $P(\\text{doubles})$ = 1/6 $\\simeq$ 0.167."
   ]
  },
  {
   "cell_type": "markdown",
   "metadata": {},
   "source": [
    "## Independence\n",
    "The probability of a composite event (event $A$ happens, then event $B$) is the product of the individual probabilities\n",
    "\n",
    "$$P(A\\text{ and }B) = P(A) \\times P(B)$$\n",
    "\n",
    "but **only if the events are independent**, that is, the fact that one of them happens does not influence the other at all."
   ]
  },
  {
   "cell_type": "code",
   "execution_count": null,
   "metadata": {
    "collapsed": true
   },
   "outputs": [],
   "source": []
  }
 ],
 "metadata": {
  "anaconda-cloud": {},
  "kernelspec": {
   "display_name": "Python [default]",
   "language": "python",
   "name": "python2"
  },
  "language_info": {
   "codemirror_mode": {
    "name": "ipython",
    "version": 2
   },
   "file_extension": ".py",
   "mimetype": "text/x-python",
   "name": "python",
   "nbconvert_exporter": "python",
   "pygments_lexer": "ipython2",
   "version": "2.7.12"
  }
 },
 "nbformat": 4,
 "nbformat_minor": 0
}
