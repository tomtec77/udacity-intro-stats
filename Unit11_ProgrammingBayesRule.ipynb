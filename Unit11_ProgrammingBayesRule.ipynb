{
 "cells": [
  {
   "cell_type": "markdown",
   "metadata": {},
   "source": [
    "# Unit 11 - Programming Bayes' Rule\n",
    "\n",
    "## Functions in Python\n",
    "\n",
    "A very basic function which just returns its input:"
   ]
  },
  {
   "cell_type": "code",
   "execution_count": 19,
   "metadata": {
    "collapsed": false
   },
   "outputs": [
    {
     "name": "stdout",
     "output_type": "stream",
     "text": [
      "0.3\n"
     ]
    }
   ],
   "source": [
    "from __future__ import print_function\n",
    "\n",
    "def f(p):\n",
    "    return p\n",
    "\n",
    "print(f(0.3))"
   ]
  },
  {
   "cell_type": "markdown",
   "metadata": {},
   "source": [
    "Now we modify this code such that the return value is `1 - p` instead."
   ]
  },
  {
   "cell_type": "code",
   "execution_count": 20,
   "metadata": {
    "collapsed": false
   },
   "outputs": [
    {
     "name": "stdout",
     "output_type": "stream",
     "text": [
      "0.7\n"
     ]
    }
   ],
   "source": [
    "def f(p):\n",
    "    return 1-p\n",
    "\n",
    "print(f(0.3))"
   ]
  },
  {
   "cell_type": "markdown",
   "metadata": {},
   "source": [
    "This function could be the calculation of the complementary probability."
   ]
  },
  {
   "cell_type": "markdown",
   "metadata": {},
   "source": [
    "## Flipping coins\n",
    "Now, modify the function to return the probability of obtaining heads twice in two consecutive coin flips, for an arbitrary probability `p` of obtaining a head after one flip."
   ]
  },
  {
   "cell_type": "code",
   "execution_count": 21,
   "metadata": {
    "collapsed": false
   },
   "outputs": [
    {
     "name": "stdout",
     "output_type": "stream",
     "text": [
      "0.09\n"
     ]
    }
   ],
   "source": [
    "def f(p):\n",
    "    return p*p\n",
    "\n",
    "print(f(0.3))"
   ]
  },
  {
   "cell_type": "markdown",
   "metadata": {},
   "source": [
    "Now we flip the coin three times, and we want to calculate the probability of obtaining heads only once. The only input to the function should be `p`, so the function will only work for the three flips case."
   ]
  },
  {
   "cell_type": "code",
   "execution_count": 22,
   "metadata": {
    "collapsed": false
   },
   "outputs": [
    {
     "name": "stdout",
     "output_type": "stream",
     "text": [
      "0.441\n"
     ]
    }
   ],
   "source": [
    "def f(p):\n",
    "    return 3*p*(1-p)*(1-p)\n",
    "\n",
    "print(f(0.3))"
   ]
  },
  {
   "cell_type": "markdown",
   "metadata": {},
   "source": [
    "Case of two coins, whose probabilities may be different: we can account for this by giving more than one input parameter to the function. If we want to calculate the probability of flipping one head each from these two coins,"
   ]
  },
  {
   "cell_type": "code",
   "execution_count": 23,
   "metadata": {
    "collapsed": false
   },
   "outputs": [
    {
     "name": "stdout",
     "output_type": "stream",
     "text": [
      "0.4\n"
     ]
    }
   ],
   "source": [
    "def f(p1, p2):\n",
    "    return p1*p2\n",
    "\n",
    "print(f(0.5, 0.8))"
   ]
  },
  {
   "cell_type": "markdown",
   "metadata": {},
   "source": [
    "We express this as a conditional:\n",
    "\n",
    "$$P(H|C_1) = p_1$$\n",
    "$$P(H|C_2) = p_2$$\n",
    "\n",
    "If we pick a coin at random ($P(C_1) = p_0$,  $P(C_2) = 1 - p_0$ with $p_0$ = 0.3, $p_1$ = 0.5, $p_2$ = 0.9, the probability of obtaining heads is\n",
    "\n",
    "$$P(H) = p_0 p_1 + (1 - p_0) p_2 = 0.78$$"
   ]
  },
  {
   "cell_type": "markdown",
   "metadata": {},
   "source": [
    "Now implement a function to calculate this probability."
   ]
  },
  {
   "cell_type": "code",
   "execution_count": 24,
   "metadata": {
    "collapsed": false
   },
   "outputs": [
    {
     "name": "stdout",
     "output_type": "stream",
     "text": [
      "0.78\n"
     ]
    }
   ],
   "source": [
    "def f(p0, p1, p2):\n",
    "    return p0*p1 + (1-p0)*p2\n",
    "\n",
    "print(f(0.3, 0.5, 0.9))"
   ]
  },
  {
   "cell_type": "markdown",
   "metadata": {},
   "source": [
    "## Cancer example\n",
    "\n",
    "If the prior probability of having cancer and the sensitivity and specificity of a test are\n",
    "\n",
    "$$P(C) = p_0$$\n",
    "$$P(p|C) = p_1$$\n",
    "$$P(n|\\neg{C}) = p_2$$\n",
    "\n",
    "write code that calculates the probability of a positive test result."
   ]
  },
  {
   "cell_type": "code",
   "execution_count": 25,
   "metadata": {
    "collapsed": false
   },
   "outputs": [
    {
     "name": "stdout",
     "output_type": "stream",
     "text": [
      "0.27\n"
     ]
    }
   ],
   "source": [
    "def f(p0, p1, p2):\n",
    "    return p0*p1 + (1-p0)*(1-p2)\n",
    "\n",
    "print(f(0.1, 0.9, 0.8))"
   ]
  },
  {
   "cell_type": "markdown",
   "metadata": {},
   "source": [
    "Now we want the posterior probability of cancer, given a positive test result."
   ]
  },
  {
   "cell_type": "code",
   "execution_count": 26,
   "metadata": {
    "collapsed": false
   },
   "outputs": [
    {
     "name": "stdout",
     "output_type": "stream",
     "text": [
      "0.333333333333\n",
      "0.0660377358491\n"
     ]
    }
   ],
   "source": [
    "def f(p0, p1, p2):\n",
    "    return p0*p1/(p0*p1 + (1-p0)*(1-p2))\n",
    "\n",
    "print(f(0.1, 0.9, 0.8))\n",
    "print(f(0.01, 0.7, 0.9))"
   ]
  },
  {
   "cell_type": "markdown",
   "metadata": {},
   "source": [
    "For the posterior probability of cancer given a negative test result:"
   ]
  },
  {
   "cell_type": "code",
   "execution_count": 27,
   "metadata": {
    "collapsed": false
   },
   "outputs": [
    {
     "name": "stdout",
     "output_type": "stream",
     "text": [
      "0.013698630137\n",
      "0.00335570469799\n"
     ]
    }
   ],
   "source": [
    "def f(p0, p1, p2):\n",
    "    return p0*(1-p1)/(p0*(1-p1) + (1-p0)*p2)\n",
    "\n",
    "print(f(0.1, 0.9, 0.8))\n",
    "print(f(0.01, 0.7, 0.9))"
   ]
  },
  {
   "cell_type": "code",
   "execution_count": null,
   "metadata": {
    "collapsed": true
   },
   "outputs": [],
   "source": []
  }
 ],
 "metadata": {
  "anaconda-cloud": {},
  "kernelspec": {
   "display_name": "Python [conda env:introstats]",
   "language": "python",
   "name": "conda-env-introstats-py"
  },
  "language_info": {
   "codemirror_mode": {
    "name": "ipython",
    "version": 2
   },
   "file_extension": ".py",
   "mimetype": "text/x-python",
   "name": "python",
   "nbconvert_exporter": "python",
   "pygments_lexer": "ipython2",
   "version": "2.7.12"
  }
 },
 "nbformat": 4,
 "nbformat_minor": 1
}
