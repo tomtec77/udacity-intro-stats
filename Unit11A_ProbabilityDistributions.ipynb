{
 "cells": [
  {
   "cell_type": "markdown",
   "metadata": {},
   "source": [
    "# Unit 11A\n",
    "\n",
    "![title](unit11A_01.png)\n",
    "\n",
    "![title](unit11a_02.png)\n",
    "\n",
    "![title](unit11a_03.png)\n",
    "\n",
    "![title](unit11a_04.png)"
   ]
  },
  {
   "cell_type": "markdown",
   "metadata": {},
   "source": [
    "## Date and time of birth\n",
    "If we consider a number of seconds $x$, what is the probability $P(x)$ that $x$ matches the seconds of the date and time of your birth (DD/MM/YYYY HH:MM:SS)? And what is the density $f(x)$?\n",
    "\n",
    "$$P(x) = 0$$\n",
    "\n",
    "$$f(x) = \\frac{1}{60} \\simeq 0.0167$$"
   ]
  },
  {
   "cell_type": "markdown",
   "metadata": {},
   "source": [
    "## Non-uniform densities\n",
    "\n",
    "Suppose that birth rates depend on the time of day: people are **twice** as likely to be born before noon. Then, the plot of the density looks like:\n",
    "\n",
    "![title](unit11a_05.png)\n",
    "\n",
    "The area underneath **has to add up to 1**, so if $a$ is the value of $f(x)$ for 0 $< x \\leq$ 12 and $b$ the value for 12 $< x \\leq$ 24, then\n",
    "\n",
    "$$12 a + 12 b = 12 (a + b) = 12 (2 b + b) = 1$$\n",
    "\n",
    "$$b = \\frac{1}{36}$$"
   ]
  },
  {
   "cell_type": "markdown",
   "metadata": {},
   "source": [
    "## Another example\n",
    "\n",
    "Suppose we drop packages from a plane, and it takes the packages from 3 to 3.5 minutes to reach the ground. The distribution of arrival times is uniform $f(t) = a$ between those two values. What is the value of $a$?\n",
    "\n",
    "$$a = \\frac{1}{3.5 - 3} = 2$$\n",
    "\n",
    "Note that the density $a$ **can be larger than 1**."
   ]
  },
  {
   "cell_type": "markdown",
   "metadata": {},
   "source": [
    "## Density function\n",
    "\n",
    "For a function $f(x)$ to qualify as a density, it must be *non-negative* (can be 0). A density does not have to be continuous (previous examples used here have points of discontinuity)."
   ]
  },
  {
   "cell_type": "markdown",
   "metadata": {
    "collapsed": true
   },
   "source": [
    "Images created with Twiddla (https://www.twiddla.com/)."
   ]
  },
  {
   "cell_type": "code",
   "execution_count": null,
   "metadata": {
    "collapsed": true
   },
   "outputs": [],
   "source": [
    ""
   ]
  }
 ],
 "metadata": {
  "anaconda-cloud": {},
  "kernelspec": {
   "display_name": "Python [conda env:introstats]",
   "language": "python",
   "name": "conda-env-introstats-py"
  },
  "language_info": {
   "codemirror_mode": {
    "name": "ipython",
    "version": 2.0
   },
   "file_extension": ".py",
   "mimetype": "text/x-python",
   "name": "python",
   "nbconvert_exporter": "python",
   "pygments_lexer": "ipython2",
   "version": "2.7.12"
  }
 },
 "nbformat": 4,
 "nbformat_minor": 0
}