{
 "cells": [
  {
   "cell_type": "markdown",
   "metadata": {},
   "source": [
    "# Unit 14 - Averages\n",
    "\n",
    "## Mean\n",
    "\n",
    "The formula for the **arithmetic mean** is\n",
    "\n",
    "$$\\text{Mean} = \\frac{1}{N} \\sum_i x_i$$\n",
    "\n",
    "As an example, we calculate the mean price for a set of houses:"
   ]
  },
  {
   "cell_type": "code",
   "execution_count": 1,
   "metadata": {
    "collapsed": false
   },
   "outputs": [
    {
     "name": "stdout",
     "output_type": "stream",
     "text": [
      "Mean price: 174000.0\n"
     ]
    }
   ],
   "source": [
    "from __future__ import print_function, division\n",
    "import numpy as np\n",
    "\n",
    "houses = np.array([190000, 170000, 165000, 180000, 165000])\n",
    "print(\"Mean price: {}\".format(houses.sum()/houses.size))"
   ]
  },
  {
   "cell_type": "markdown",
   "metadata": {},
   "source": [
    "For a different set of houses, perhaps in a different part of town:"
   ]
  },
  {
   "cell_type": "code",
   "execution_count": 2,
   "metadata": {
    "collapsed": false
   },
   "outputs": [
    {
     "name": "stdout",
     "output_type": "stream",
     "text": [
      "Mean price: 492571.428571\n"
     ]
    }
   ],
   "source": [
    "houses2 = np.array([2400000, 125000, 148000, 160000, 110000, 325000, 180000])\n",
    "print(\"Mean price: {}\".format(houses2.sum()/houses2.size))"
   ]
  },
  {
   "cell_type": "markdown",
   "metadata": {},
   "source": [
    "Most of the houses are in the \\$110,000 - \\$180,000 range - two houses with larger prices shift the mean outside of this range."
   ]
  },
  {
   "cell_type": "markdown",
   "metadata": {},
   "source": [
    "## Median\n",
    "\n",
    "To determine the median of a sample, you first need to sort it and then pick the one in the middle."
   ]
  },
  {
   "cell_type": "code",
   "execution_count": 3,
   "metadata": {
    "collapsed": false
   },
   "outputs": [
    {
     "data": {
      "text/plain": [
       "160000.0"
      ]
     },
     "execution_count": 3,
     "metadata": {},
     "output_type": "execute_result"
    }
   ],
   "source": [
    "np.median(houses2)"
   ]
  },
  {
   "cell_type": "markdown",
   "metadata": {},
   "source": [
    "As a typical price of the houses in the area, this is a more reasonable value than the mean."
   ]
  },
  {
   "cell_type": "markdown",
   "metadata": {},
   "source": [
    "## Mode\n",
    "\n",
    "Suppose we are at a children birthday party, with both children and their parents. The array below contains the ages of the people present."
   ]
  },
  {
   "cell_type": "code",
   "execution_count": 4,
   "metadata": {
    "collapsed": true
   },
   "outputs": [],
   "source": [
    "ages = np.array([4, 3, 32, 33, 4, 32, 3, 38, 4])"
   ]
  },
  {
   "cell_type": "markdown",
   "metadata": {},
   "source": [
    "The mean age of people at the party is"
   ]
  },
  {
   "cell_type": "code",
   "execution_count": 5,
   "metadata": {
    "collapsed": false
   },
   "outputs": [
    {
     "name": "stdout",
     "output_type": "stream",
     "text": [
      "Mean age: 17.0\n"
     ]
    }
   ],
   "source": [
    "print(\"Mean age: {}\".format(ages.mean()))"
   ]
  },
  {
   "cell_type": "markdown",
   "metadata": {},
   "source": [
    "The mean is not very informative - there are no teenagers at this party. The median is"
   ]
  },
  {
   "cell_type": "code",
   "execution_count": 6,
   "metadata": {
    "collapsed": false
   },
   "outputs": [
    {
     "name": "stdout",
     "output_type": "stream",
     "text": [
      "Median age: 4.0\n"
     ]
    }
   ],
   "source": [
    "print(\"Median age: {}\".format(np.median(ages)))"
   ]
  },
  {
   "cell_type": "markdown",
   "metadata": {},
   "source": [
    "Not really a useful statistic - does not capture the ages of the parents. If two more parents show up:"
   ]
  },
  {
   "cell_type": "code",
   "execution_count": 7,
   "metadata": {
    "collapsed": false
   },
   "outputs": [
    {
     "name": "stdout",
     "output_type": "stream",
     "text": [
      "Median age: 32.0\n"
     ]
    }
   ],
   "source": [
    "ages2 = np.array([4, 3, 32, 33, 4, 32, 3, 38, 4, 35, 36])\n",
    "print(\"Median age: {}\".format(np.median(ages2)))"
   ]
  },
  {
   "cell_type": "markdown",
   "metadata": {},
   "source": [
    "Now the median shifts to the parent's age range.\n",
    "\n",
    "The **mode** is defined as the most frequent value in a sample. In the party example,"
   ]
  },
  {
   "cell_type": "code",
   "execution_count": 10,
   "metadata": {
    "collapsed": false
   },
   "outputs": [
    {
     "name": "stdout",
     "output_type": "stream",
     "text": [
      "Mode: 4\n"
     ]
    }
   ],
   "source": [
    "from scipy import stats\n",
    "\n",
    "print(\"Mode: {}\".format(stats.mode(ages2)[0][0]))"
   ]
  },
  {
   "cell_type": "markdown",
   "metadata": {
    "collapsed": true
   },
   "source": [
    "Another example:"
   ]
  },
  {
   "cell_type": "code",
   "execution_count": 12,
   "metadata": {
    "collapsed": false
   },
   "outputs": [
    {
     "name": "stdout",
     "output_type": "stream",
     "text": [
      "Mean, median, mode: 38.0 9.0 9\n"
     ]
    }
   ],
   "source": [
    "values = np.array([5, 9, 100, 9, 97, 6, 9, 98, 9])\n",
    "print(\"Mean, median, mode: {} {} {}\".format(values.mean(), np.median(values), stats.mode(values)[0][0]))"
   ]
  },
  {
   "cell_type": "markdown",
   "metadata": {},
   "source": [
    "For the mode, ties may occur - those are broken at random. Yet another example:"
   ]
  },
  {
   "cell_type": "code",
   "execution_count": 13,
   "metadata": {
    "collapsed": false
   },
   "outputs": [
    {
     "name": "stdout",
     "output_type": "stream",
     "text": [
      "Mean, median, mode: 5.0 3.5 9\n"
     ]
    }
   ],
   "source": [
    "values = np.array([3, 9, 3, 8, 2, 9, 1, 9, 2, 4])\n",
    "print(\"Mean, median, mode: {} {} {}\".format(values.mean(), np.median(values), stats.mode(values)[0][0]))"
   ]
  },
  {
   "cell_type": "markdown",
   "metadata": {},
   "source": [
    "In this case there's an even number of values - there's nothing exactly at the centre. The value returned is the average of the two central values, 3 and 4."
   ]
  },
  {
   "cell_type": "code",
   "execution_count": null,
   "metadata": {
    "collapsed": true
   },
   "outputs": [],
   "source": []
  }
 ],
 "metadata": {
  "anaconda-cloud": {},
  "kernelspec": {
   "display_name": "Python [conda env:introstats]",
   "language": "python",
   "name": "conda-env-introstats-py"
  },
  "language_info": {
   "codemirror_mode": {
    "name": "ipython",
    "version": 2
   },
   "file_extension": ".py",
   "mimetype": "text/x-python",
   "name": "python",
   "nbconvert_exporter": "python",
   "pygments_lexer": "ipython2",
   "version": "2.7.12"
  }
 },
 "nbformat": 4,
 "nbformat_minor": 0
}
