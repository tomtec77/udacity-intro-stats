{
 "cells": [
  {
   "cell_type": "markdown",
   "metadata": {},
   "source": [
    "# Unit 12 - Correlation vs Causation\n",
    "\n",
    "## Example: Hospitals\n",
    "\n",
    "Suppose that in your town, over the last year, out of 40 people who were hospitalised 4 people died (10%). In the town, 8,000 people never went to the hospital; out of those, 20 (0.25%) died at their homes. Should you go to the hospital if you feel very sick, or stay at home? **Chances of dying in the hospital are 40 times larger than at home!**\n",
    "\n",
    "**You should definitely go!** The above is a *statement of correlation*, not of *causation*. Frequently people observe a correlation, but mistake it as causation. The following statement would imply causation:\n",
    "\n",
    "> Being in a hospital increases your probability of dying by a factor of 40. \n",
    "\n",
    "This would imply that \"the hospital **causes** you to die\", which isn't the case. Let's assume the following:\n",
    "\n",
    " | In hospital | Died\n",
    "-|-------------|-----\n",
    "Sick | 36 | 4\n",
    "Healthy | 4 | 0\n",
    "\n",
    " | At home | Died\n",
    "-|-------------|-----\n",
    "Sick | 40 | 20\n",
    "Healthy | 7960 | 20\n",
    "\n",
    "These statistics are consistent with the numbers given before, we just added an extra variable to account for the fact that people who are in hospitals are typically ill. Now, 11.1% of sick people in the hospital died, and none of the healthy people. But for people who stayed at home, 0.251% of healthy people died (maybe because of accidents) and 50% of sick people died. **If you are sick, you are much more likely to die if you stay at home!**\n",
    "\n",
    "Data is correlated if knowledge of one variable tells you something about the other.\n",
    "\n",
    "Sickness is here a **confounding variable**. It causes both the death of people, and people to go to the hospital. But *given that you are sick*, there is a *negative correlation* between death and being in a hospital. If we omit the confounding variable, in this case we see a positive correlation instead."
   ]
  },
  {
   "cell_type": "markdown",
   "metadata": {},
   "source": [
    "## Example: Fires\n",
    "\n",
    "Suppose we have the following data for the sizes of fires (in whatever units), and the number of firefighters seen at the location of the fire:\n",
    "\n",
    "Number of firefighters | Size of the fire\n",
    "-----------------------|-----------------\n",
    "10 | 100\n",
    "40 | 400\n",
    "200 | 2000\n",
    "70 | 700\n",
    "\n",
    "The following is a plot of the data:"
   ]
  },
  {
   "cell_type": "code",
   "execution_count": 15,
   "metadata": {
    "collapsed": false
   },
   "outputs": [
    {
     "data": {
      "image/png": "[encoded data removed]",
      "text/plain": [
       "<matplotlib.figure.Figure at 0x7f381e7f56d0>"
      ]
     },
     "metadata": {},
     "output_type": "display_data"
    }
   ],
   "source": [
    "import matplotlib.pyplot as plt\n",
    "import numpy as np\n",
    "\n",
    "y = np.array([10, 40, 200, 70])\n",
    "x = np.array([100, 400, 2000, 700])\n",
    "\n",
    "plt.plot(x, y, \"o\")\n",
    "plt.xlim(0, 2500)\n",
    "plt.xlabel(\"Size of the fire\")\n",
    "plt.ylabel(\"Number of firefighters\")\n",
    "plt.ylim(0,250)\n",
    "plt.show();"
   ]
  },
  {
   "cell_type": "markdown",
   "metadata": {},
   "source": [
    "There is a strong linear correlation between size of the fire and number of firefighters. **Do firefighters cause fire? Of course not!** This is a case of *reverse causation* - the size of the fire is what determines the number of firefighters. Bigger fires require more manpower to put out.\n",
    "\n",
    "It is impossible from a plot such as the one above to determine causation. The relation could be either way ($x$ causes $y$, or $y$ causes $x$) or it could be just a coincidence."
   ]
  }
 ],
 "metadata": {
  "anaconda-cloud": {},
  "kernelspec": {
   "display_name": "Python [conda env:introstats]",
   "language": "python",
   "name": "conda-env-introstats-py"
  },
  "language_info": {
   "codemirror_mode": {
    "name": "ipython",
    "version": 2
   },
   "file_extension": ".py",
   "mimetype": "text/x-python",
   "name": "python",
   "nbconvert_exporter": "python",
   "pygments_lexer": "ipython2",
   "version": "2.7.12"
  }
 },
 "nbformat": 4,
 "nbformat_minor": 1
}
