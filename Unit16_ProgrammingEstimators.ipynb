{
 "cells": [
  {
   "cell_type": "markdown",
   "metadata": {},
   "source": [
    "# Unit 16 - Programming Estimators\n",
    "\n",
    "## Mean"
   ]
  },
  {
   "cell_type": "code",
   "execution_count": 15,
   "metadata": {
    "collapsed": false
   },
   "outputs": [
    {
     "name": "stdout",
     "output_type": "stream",
     "text": [
      "54.4\n"
     ]
    }
   ],
   "source": [
    "from __future__ import print_function\n",
    "\n",
    "data1 = [49., 66, 24, 98, 37, 64, 98, 27, 56, 93, 68,78, 22, 25, 11]\n",
    "\n",
    "def mean(data):\n",
    "    return sum(data)/len(data)\n",
    "\n",
    "print(mean(data1))"
   ]
  },
  {
   "cell_type": "markdown",
   "metadata": {},
   "source": [
    "## Median\n",
    "\n",
    "This example assumes there's always an odd number of elements in the list, so the central element is unique."
   ]
  },
  {
   "cell_type": "code",
   "execution_count": 16,
   "metadata": {
    "collapsed": false
   },
   "outputs": [
    {
     "name": "stdout",
     "output_type": "stream",
     "text": [
      "2\n"
     ]
    }
   ],
   "source": [
    "data1 = [1, 2, 5, 10, -20]\n",
    "\n",
    "def median(data):\n",
    "    sdata = sorted(data)\n",
    "    # Return the element in the middle\n",
    "    return sdata[(len(data)-1)/2]\n",
    "\n",
    "print(median(data1))"
   ]
  },
  {
   "cell_type": "markdown",
   "metadata": {},
   "source": [
    "## Mode\n",
    "\n",
    "In this example, if there is more than one mode it's acceptable to return any of the possible values."
   ]
  },
  {
   "cell_type": "code",
   "execution_count": 17,
   "metadata": {
    "collapsed": false
   },
   "outputs": [
    {
     "name": "stdout",
     "output_type": "stream",
     "text": [
      "5\n"
     ]
    }
   ],
   "source": [
    "data1 = [1, 2, 5, 10, -20, 5, 5]\n",
    "\n",
    "def mode(data):\n",
    "    nmax = 0\n",
    "    for i in range(len(data)):\n",
    "        n = data.count(data[i])\n",
    "        if n >= nmax:\n",
    "            result = data[i]\n",
    "            nmax = n\n",
    "    return result\n",
    "\n",
    "print(mode(data1))"
   ]
  },
  {
   "cell_type": "markdown",
   "metadata": {},
   "source": [
    "## Variance\n",
    "\n",
    "Here you can use the function `mean()` that you have programmed before."
   ]
  },
  {
   "cell_type": "code",
   "execution_count": 18,
   "metadata": {
    "collapsed": false
   },
   "outputs": [
    {
     "name": "stdout",
     "output_type": "stream",
     "text": [
      "62.572884\n"
     ]
    }
   ],
   "source": [
    "data3 = [13.04, 1.32, 22.65, 17.44, 29.54, 23.22, 17.65, 10.12, 26.73, 16.43]\n",
    "\n",
    "def variance(data):\n",
    "    mu = mean(data)\n",
    "    ndata = []\n",
    "    for i in range(len(data)):\n",
    "        ndata.append((data[i]-mu)**2)\n",
    "    return mean(ndata)\n",
    "\n",
    "print(variance(data3))"
   ]
  },
  {
   "cell_type": "markdown",
   "metadata": {},
   "source": [
    "A shorter version of the code:"
   ]
  },
  {
   "cell_type": "code",
   "execution_count": 19,
   "metadata": {
    "collapsed": false
   },
   "outputs": [
    {
     "name": "stdout",
     "output_type": "stream",
     "text": [
      "62.572884\n"
     ]
    }
   ],
   "source": [
    "def variance(data):\n",
    "    mu = mean(data)\n",
    "    return mean([(x-mu)**2 for x in data])\n",
    "\n",
    "print(variance(data3))"
   ]
  },
  {
   "cell_type": "markdown",
   "metadata": {},
   "source": [
    "## Standard deviation\n"
   ]
  },
  {
   "cell_type": "code",
   "execution_count": 20,
   "metadata": {
    "collapsed": false
   },
   "outputs": [
    {
     "name": "stdout",
     "output_type": "stream",
     "text": [
      "7.91030239624\n"
     ]
    }
   ],
   "source": [
    "from math import sqrt\n",
    "\n",
    "def stddev(data):\n",
    "    return sqrt(variance(data))\n",
    "\n",
    "print(stddev(data3))"
   ]
  },
  {
   "cell_type": "code",
   "execution_count": null,
   "metadata": {
    "collapsed": true
   },
   "outputs": [],
   "source": []
  }
 ],
 "metadata": {
  "anaconda-cloud": {},
  "kernelspec": {
   "display_name": "Python [conda env:introstats]",
   "language": "python",
   "name": "conda-env-introstats-py"
  },
  "language_info": {
   "codemirror_mode": {
    "name": "ipython",
    "version": 2
   },
   "file_extension": ".py",
   "mimetype": "text/x-python",
   "name": "python",
   "nbconvert_exporter": "python",
   "pygments_lexer": "ipython2",
   "version": "2.7.12"
  }
 },
 "nbformat": 4,
 "nbformat_minor": 1
}
