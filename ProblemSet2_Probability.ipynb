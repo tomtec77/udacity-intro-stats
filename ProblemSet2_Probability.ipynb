{
 "cells": [
  {
   "cell_type": "markdown",
   "metadata": {},
   "source": [
    "# Problem Set 2: Probability\n",
    "\n",
    "## Exercise 1\n",
    "\n",
    "Suppose we have a fair coin, which we flip 4 times. What is the probability of getting **exactly** one head, divided by the probability that **only** the first flip is a head?\n",
    "\n",
    "$$\\frac{P(\\text{Exactly one head})}{P(\\text{Only first flip is head})} = \\frac{4/36}{1/36} = 4$$\n",
    "\n",
    "There are four combinations that match the first condition ($H T T T$, $T H T T$, $T T H T$, $T T T H$), all equally likely, but only one that matches the second ($H T T T$). \n",
    "\n",
    "For the same coin, 4 flips, what is the probability of getting exactly one head, divided by the probability that the **first** flip is heads (regardless of the others)?\n",
    "\n",
    "$$\\frac{P(\\text{Exactly one head})}{P(\\text{First flip is head})} = \\frac{4/36}{8/36} = 0.5$$\n",
    "\n",
    "Now for the second condition there are 8 matching combinations ($H H H H$, $H H H T$, $H H T H$, $H H T T$, $H T H H$, $H T H T$, $H T T H$, $H T T T$)."
   ]
  },
  {
   "cell_type": "markdown",
   "metadata": {
    "collapsed": true
   },
   "source": [
    "## Exercise 2\n",
    "\n",
    "Suppose we have two coins. Coin 1 is fair, but coin 2 is loaded: $P_2(H)$ = 0.9. A person picks one of the coins, flips it three times and obtains the following sequence: $H H T$. He then puts the coin back. Another person comes along, picks one of the coins at random, and also flips it three times. He gets the sequence $T H H$. What is the probability that the two picked the same coin?\n",
    "\n",
    "For the fair coin, the probability of both sequences is 0.5 $\\times$ 0.5 $\\times$ 0.5 = 0.125. For the biased coin, the probability of both sequences is 0.9 $\\times$ 0.9 $\\times$ 0.1 = 0.081. Using Bayes' Rule, the probability that person $A$ chose coin 1 given what he flipped is\n",
    "\n",
    "$$P(\\text{Choose 1}|H H T) = \\frac{P(\\text{Choose 1}) P(H H T | \\text{Choose 1})}{P(\\text{Choose 1}) P(H H T | \\text{Choose 1}) + P(\\text{Choose 2}) P(H H T|\\text{Choose 2})} = 0.607$$\n",
    "\n",
    "and the probability of person $B$ choosing the same coin is the same, since they both have the same probability of picking one of the coins and, for each of the coins, the two sequences have the same probability. Their probability of having chosen coin 2 is\n",
    "\n",
    "$$P(\\text{Choose 2}|T H H) = \\frac{P(\\text{Choose 2}) P(T H H | \\text{Choose 2})}{P(\\text{Choose 2}) P(T H H| \\text{Choose 2}) + P(\\text{Choose 1}) P(T H H|\\text{Choose 1})} = 0.393$$\n",
    "\n",
    "The probability of both $A$ and $B$ having chosen the same coin is\n",
    "\n",
    "$$P = P(A \\text{ choose 1}) P(B \\text{ choose 1}) + P(A \\text{ choose 2}) P(B \\text{ choose 2}) = 0.607 \\times 0.607 + 0.393 \\times 0.393 = 0.523$$"
   ]
  },
  {
   "cell_type": "markdown",
   "metadata": {},
   "source": [
    "## Exercise 3\n",
    "\n",
    "Consider a coin, not necessarily a fair one, but with $P(H) \\neq$ 0 and $P(H) \\neq$ 1 (that is, you can get both heads and tails by flipping it). Of the following statements, which ones are true if we flip the coin many times?\n",
    "\n",
    "1. The probability of every sequence becomes small.\n",
    "2. The probability of every number of heads becomes small.\n",
    "3. The probability of every proportion of heads becomes small.\n",
    "4. The probability of every range of proportions becomes small.\n",
    "5. The probability of some ranges of proportions becomes small.\n",
    "\n",
    "**Answer: all of the above, except #4, are true.** Number 1 is true because every time you flip a coin, you double the number of sequences - you keep adding more and more possibilities, so the probability of any one particular sequence tends to zero.\n",
    "\n",
    "Number 2 must be true as well: even if the probability of obtaining heads is very low, if it's nonzero then we'll eventually accumulate many heads, getting further and further away from the number we expect.\n",
    "\n",
    "Number 3 is true because every proportion of heads corresponds to a given exact number of heads in the sequence. Keeping the ratio between the number of heads and the total number of flips may even be impossible; for example, if we expect $H/T$ = 0.5, this ratio will **never** be exactly attained if we have an odd number of flips. It may be *very close* to 0.5 if we have, say, 556 heads and 557 tails, in which case $H/T$ = 0.49551$\\dots$, but it certainly isn't equal to it.\n",
    "\n",
    "One quick way to see that number 4 cannot be true is to realise that if we consider the entire range of possible proportions (from 0 to 1), the probability of that range is 1, constant. And to see that number 5 is true, consider the probability that the proportion of heads stays below 10% if the coin is fair."
   ]
  },
  {
   "cell_type": "code",
   "execution_count": 9,
   "metadata": {
    "collapsed": false
   },
   "outputs": [
    {
     "data": {
      "text/plain": [
       "0.4995507637017071"
      ]
     },
     "execution_count": 9,
     "metadata": {},
     "output_type": "execute_result"
    }
   ],
   "source": [
    "556.0/(556+557)"
   ]
  },
  {
   "cell_type": "code",
   "execution_count": null,
   "metadata": {
    "collapsed": true
   },
   "outputs": [],
   "source": []
  }
 ],
 "metadata": {
  "anaconda-cloud": {},
  "kernelspec": {
   "display_name": "Python [conda env:introstats]",
   "language": "python",
   "name": "conda-env-introstats-py"
  },
  "language_info": {
   "codemirror_mode": {
    "name": "ipython",
    "version": 2
   },
   "file_extension": ".py",
   "mimetype": "text/x-python",
   "name": "python",
   "nbconvert_exporter": "python",
   "pygments_lexer": "ipython2",
   "version": "2.7.12"
  }
 },
 "nbformat": 4,
 "nbformat_minor": 1
}
