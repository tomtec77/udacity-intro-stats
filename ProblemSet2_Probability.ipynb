{
 "cells": [
  {
   "cell_type": "markdown",
   "metadata": {},
   "source": [
    "# Problem Set 2: Probability\n",
    "\n",
    "## Exercise 1\n",
    "\n",
    "Suppose we have a fair coin, which we flip 4 times. What is the probability of getting **exactly** one head, divided by the probability that **only** the first flip is a head?\n",
    "\n",
    "$$\\frac{P(\\text{Exactly one head})}{P(\\text{Only first flip is head})} = \\frac{4/36}{1/36} = 4$$\n",
    "\n",
    "There are four combinations that match the first condition ($H T T T$, $T H T T$, $T T H T$, $T T T H$), all equally likely, but only one that matches the second ($H T T T$). \n",
    "\n",
    "For the same coin, 4 flips, what is the probability of getting exactly one head, divided by the probability that the **first** flip is heads (regardless of the others)?\n",
    "\n",
    "$$\\frac{P(\\text{Exactly one head})}{P(\\text{First flip is head})} = \\frac{4/36}{8/36} = 0.5$$\n",
    "\n",
    "Now for the second condition there are 8 matching combinations ($H H H H$, $H H H T$, $H H T H$, $H H T T$, $H T H H$, $H T H T$, $H T T H$, $H T T T$)."
   ]
  },
  {
   "cell_type": "markdown",
   "metadata": {
    "collapsed": true
   },
   "source": [
    "## Exercise 2\n",
    "\n",
    "Suppose we have two coins. Coin 1 is fair, but coin 2 is loaded: $P_2(H)$ = 0.9. A person picks one of the coins, flips it three times and obtains the following sequence: $H H T$. He then puts the coin back. Another person comes along, picks one of the coins at random, and also flips it three times. He gets the sequence $T H H$. What is the probability that the two picked the same coin?\n",
    "\n",
    "For the fair coin, the probability of both sequences is 0.5 $\\times$ 0.5 $\\times$ 0.5 = 0.125. For the biased coin, the probability of both sequences is 0.9 $\\times$ 0.9 $\\times$ 0.1 = 0.081. Using Bayes' Rule, the probability that person $A$ chose coin 1 given what he flipped is\n",
    "\n",
    "$$P(\\text{Choose 1}|H H T) = \\frac{P(\\text{Choose 1}) P(H H T | \\text{Choose 1})}{P(\\text{Choose 1}) P(H H T | \\text{Choose 1}) + P(\\text{Choose 2}) P(H H T|\\text{Choose 2})} = 0.607$$\n",
    "\n",
    "and the probability of person $B$ choosing the same coin is the same, since they both have the same probability of picking one of the coins and, for each of the coins, the two sequences have the same probability. Their probability of having chosen coin 2 is\n",
    "\n",
    "$$P(\\text{Choose 2}|T H H) = \\frac{P(\\text{Choose 2}) P(T H H | \\text{Choose 2})}{P(\\text{Choose 2}) P(T H H| \\text{Choose 2}) + P(\\text{Choose 1}) P(T H H|\\text{Choose 1})} = 0.393$$\n",
    "\n",
    "The probability of both $A$ and $B$ having chosen the same coin is\n",
    "\n",
    "$$P = P(A \\text{ choose 1}) P(B \\text{ choose 1}) + P(A \\text{ choose 2}) P(B \\text{ choose 2}) = 0.607 \\times 0.607 + 0.393 \\times 0.393 = 0.523$$"
   ]
  },
  {
   "cell_type": "markdown",
   "metadata": {},
   "source": [
    "## Exercise 3\n",
    "\n",
    "Consider a coin, not necessarily a fair one, but with $P(H) \\neq$ 0 and $P(H) \\neq$ 1 (that is, you can get both heads and tails by flipping it). Of the following statements, which ones are true if we flip the coin many times?\n",
    "\n",
    "1. The probability of every sequence becomes small.\n",
    "2. The probability of every number of heads becomes small.\n",
    "3. The probability of every proportion of heads becomes small.\n",
    "4. The probability of every range of proportions becomes small.\n",
    "5. The probability of some ranges of proportions becomes small.\n",
    "\n",
    "**Answer: all of the above, except #4, are true.** Number 1 is true because every time you flip a coin, you double the number of sequences - you keep adding more and more possibilities, so the probability of any one particular sequence tends to zero.\n",
    "\n",
    "Number 2 must be true as well: even if the probability of obtaining heads is very low, if it's nonzero then we'll eventually accumulate many heads, getting further and further away from the number we expect.\n",
    "\n",
    "Number 3 is true because every proportion of heads corresponds to a given exact number of heads in the sequence. Keeping the ratio between the number of heads and the total number of flips may even be impossible; for example, if we expect $H/T$ = 0.5, this ratio will **never** be exactly attained if we have an odd number of flips. It may be *very close* to 0.5 if we have, say, 556 heads and 557 tails, in which case $H/T$ = 0.49551$\\dots$, but it certainly isn't equal to it.\n",
    "\n",
    "One quick way to see that number 4 cannot be true is to realise that if we consider the entire range of possible proportions (from 0 to 1), the probability of that range is 1, constant. And to see that number 5 is true, consider the probability that the proportion of heads stays below 10% if the coin is fair."
   ]
  },
  {
   "cell_type": "markdown",
   "metadata": {
    "collapsed": false
   },
   "source": [
    "## Exercise 4\n",
    "\n",
    "Let's assume we have a fair coin and a loaded coin with $P(H)$ = 0.9. If the probability of actually having the loaded coin is $P(\\text{Loaded})$ = 0.1, in which of this cases is the probability of the coin being fair, given the flips, is less than 0.5?\n",
    "\n",
    "1. 4 H, 0 T\n",
    "2. 10 H, 0 T\n",
    "3. 20 H, 0 T\n",
    "4. 0 H, 5 T\n",
    "5. 2 H, 3 T\n",
    "\n",
    "Answer: use Bayes' Theorem\n",
    "\n",
    "$$ P(\\text{Fair } | \\text{ Flips}) = \\frac{P(\\text{Flips } | \\text{ Fair}) P(\\text{Fair})}{P(\\text{Flips})} = \\frac{P(\\text{Flips } | \\text{ Fair}) P(\\text{Fair})}{P(\\text{Flips } | \\text{ Fair}) P(\\text{Fair}) + P(\\text{Flips } | \\text{ Loaded}) P(\\text{Loaded})}$$\n",
    "\n",
    "We can anticipate that cases 4 and 5 will have a higher probability of the coin being fair, since for a coin heavily biased towards heads we're unlikely to get an even mix of heads and tails, much less an all-tails run. For case 1:"
   ]
  },
  {
   "cell_type": "code",
   "execution_count": 2,
   "metadata": {
    "collapsed": false
   },
   "outputs": [
    {
     "data": {
      "text/plain": [
       "0.4615952732644018"
      ]
     },
     "execution_count": 2,
     "metadata": {},
     "output_type": "execute_result"
    }
   ],
   "source": [
    "# Probability of obtaining heads\n",
    "pF = 0.5\n",
    "pL = 0.9\n",
    "\n",
    "# Probability of picking a loaded coin\n",
    "ppickL = 0.1\n",
    "\n",
    "# Probability of 4 heads in a row\n",
    "# These are the flips | fair and flips | loaded probabilities\n",
    "p4F = pF**4\n",
    "p4L = pL**4\n",
    "\n",
    "p4F*(1-ppickL)/(p4F*(1-ppickL) + p4L*ppickL)"
   ]
  },
  {
   "cell_type": "markdown",
   "metadata": {},
   "source": [
    "The probabilities for cases 2 and 3 (much longer runs of all heads) are going to be even smaller than that."
   ]
  },
  {
   "cell_type": "markdown",
   "metadata": {},
   "source": [
    "## Programming challenge\n",
    "\n",
    "We have a bag filled with coins. Each of the coins may be a bit different: one coin may be fair, with a probability $P(H)$ = 0.5, and another may be loaded with $P(H)$ = 0.1.\n",
    "\n",
    "We draw a coin from this bag and flip it repeatedly. Each time we flip it, we want to know the probability of the coin coming up heads on the next flip.\n",
    "\n",
    "$$P(\\text{coin}_i | \\text{ flip}) = \\frac{P(\\text{flip } | \\text{ coin}_i) P(\\text{coin}_i)}{P(\\text{flip})}$$"
   ]
  },
  {
   "cell_type": "code",
   "execution_count": 9,
   "metadata": {
    "collapsed": false
   },
   "outputs": [],
   "source": [
    "from __future__ import division\n",
    "\n",
    "# We use a class to group functions and related data\n",
    "# Input is a bag of coins (a Python list)\n",
    "class FlipPredictor(object):\n",
    "    def __init__(self, coins):\n",
    "        self.coins = coins\n",
    "        n = len(coins)\n",
    "        # This is a list giving the probability at any point in time\n",
    "        # that a given coin is selected (initially, 1/n for all coins)\n",
    "        self.probs = [1/n]*n \n",
    "    \n",
    "    def Pheads(self):\n",
    "        # This function just returns the best guess for the current\n",
    "        # probability of coming up heads\n",
    "        # Add up the probability of heads for a coin, times the \n",
    "        # probability of choosing that coin\n",
    "        return sum(pcoin*p for pcoin, p in zip(self.coins, self.probs))\n",
    "        \n",
    "    def update(self, result):\n",
    "        # Take a result (either H or T) and update self.probs so that\n",
    "        # Pheads returns a correct value in the future\n",
    "        pheads = self.Pheads()\n",
    "        if result == 'H':\n",
    "            self.probs = [pcoin*p/pheads for pcoin, p in zip(\n",
    "                    self.coins, self.probs)]\n",
    "        else:\n",
    "             self.probs = [(1-pcoin)*p/(1-pheads) for pcoin, p in zip(\n",
    "                    self.coins, self.probs)]           \n",
    "        "
   ]
  },
  {
   "cell_type": "markdown",
   "metadata": {},
   "source": [
    "The block of code below tests the implementation above."
   ]
  },
  {
   "cell_type": "code",
   "execution_count": 10,
   "metadata": {
    "collapsed": false
   },
   "outputs": [
    {
     "name": "stdout",
     "output_type": "stream",
     "text": [
      "Correct\n",
      "Correct\n",
      "Correct\n",
      "Correct\n",
      "Correct\n"
     ]
    }
   ],
   "source": [
    "def test(coins, flips):\n",
    "    f = FlipPredictor(coins)\n",
    "    guesses = []\n",
    "    for flip in flips:\n",
    "        f.update(flip)\n",
    "        guesses.append(f.Pheads())\n",
    "    return guesses\n",
    "\n",
    "def maxdiff(l1, l2):\n",
    "    return max([abs(x-y) for x, y in zip(l1, l2)])\n",
    "\n",
    "testcases = [\n",
    "    (([0.5, 0.4, 0.3], 'HHTH'),\n",
    "     [0.4166666666666667, 0.432, 0.42183098591549295,\n",
    "      0.43639398998330553]),\n",
    "    (([0.14, 0.32, 0.42, 0.81, 0.21], 'HHHTTTHHH'),\n",
    "     [0.5255789473684211, 0.6512136991788505, 0.7295055220497553, \n",
    "      0.6187139453483192, 0.4823974597714815, 0.3895729901052968,\n",
    "      0.46081730193074644, 0.5444108434105802, 0.6297110187222278]),\n",
    "    (([0.14, 0.32, 0.42, 0.81, 0.21], 'TTTHHHHHH'),\n",
    "    [0.2907714935483871, 0.25157009005730924, 0.23136284577678012,\n",
    "     0.2766575695593804, 0.3296000585271367, 0.38957299010529806,\n",
    "     0.4608173019307465, 0.5444108434105804, 0.6297110187222278]),\n",
    "    (([0.12, 0.45, 0.23, 0.99, 0.35, 0.36], 'THHTHTTH'),\n",
    "    [0.28514285714285714, 0.3378256513026052, 0.380956725493104,\n",
    "     0.3518717367468537, 0.37500429586037076, 0.36528605387582497,\n",
    "     0.3555106542906013, 0.37479179323540324]),\n",
    "    (([0.03, 0.32, 0.59, 0.53, 0.55, 0.42, 0.65], 'HHTHTTHTHHT'),\n",
    "     [0.528705501618123, 0.5522060353798126, 0.5337142767315369,\n",
    "      0.5521920592821695, 0.5348391689038525, 0.5152373451083692,\n",
    "      0.535385450497415, 0.5168208803156963, 0.5357708613431963,\n",
    "      0.5510509656933194, 0.536055356823069])]\n",
    "\n",
    "for inputs, output in testcases:\n",
    "    if maxdiff(test(*inputs), output) < 0.001:\n",
    "        print 'Correct'\n",
    "    else: print 'Incorrect'"
   ]
  },
  {
   "cell_type": "code",
   "execution_count": null,
   "metadata": {
    "collapsed": true
   },
   "outputs": [],
   "source": []
  }
 ],
 "metadata": {
  "anaconda-cloud": {},
  "kernelspec": {
   "display_name": "Python [conda env:introstats]",
   "language": "python",
   "name": "conda-env-introstats-py"
  },
  "language_info": {
   "codemirror_mode": {
    "name": "ipython",
    "version": 2
   },
   "file_extension": ".py",
   "mimetype": "text/x-python",
   "name": "python",
   "nbconvert_exporter": "python",
   "pygments_lexer": "ipython2",
   "version": "2.7.12"
  }
 },
 "nbformat": 4,
 "nbformat_minor": 1
}
