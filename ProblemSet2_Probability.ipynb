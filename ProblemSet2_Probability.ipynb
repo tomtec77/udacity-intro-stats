{
 "cells": [
  {
   "cell_type": "markdown",
   "metadata": {},
   "source": [
    "# Problem Set 2: Probability\n",
    "\n",
    "Suppose we have a fair coin, which we flip 4 times. What is the probability of getting **exactly** one head, divided by the probability that **only** the first flip is a head?\n",
    "\n",
    "$$\\frac{P(\\text{Exactly one head})}{P(\\text{Only first flip is head})} = \\frac{4/36}{1/36} = 4$$"
   ]
  },
  {
   "cell_type": "code",
   "execution_count": null,
   "metadata": {
    "collapsed": true
   },
   "outputs": [],
   "source": []
  }
 ],
 "metadata": {
  "kernelspec": {
   "display_name": "Python [conda env:introstats]",
   "language": "python",
   "name": "conda-env-introstats-py"
  },
  "language_info": {
   "codemirror_mode": {
    "name": "ipython",
    "version": 2
   },
   "file_extension": ".py",
   "mimetype": "text/x-python",
   "name": "python",
   "nbconvert_exporter": "python",
   "pygments_lexer": "ipython2",
   "version": "2.7.12"
  }
 },
 "nbformat": 4,
 "nbformat_minor": 1
}
