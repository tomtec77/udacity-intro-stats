{
 "cells": [
  {
   "cell_type": "markdown",
   "metadata": {},
   "source": [
    "# Unit 10 - Bayes' Rule\n",
    "\n",
    "## Medical example\n",
    "Let's suppose we have a type of cancer, which occurs with a probability $P(C)$ = 0.01. We have a test that\n",
    "\n",
    "- is 90% *positive* if you have $C$ (this is called the **sensitivity**), and\n",
    "- is 90% *negative* if you don't have $C$ (this is the **specificity**).\n",
    "\n",
    "The question is: if the test yields a positive result, what is the probability of having this specific type of cancer?\n",
    "\n",
    "![title](6e26dcyw.png)"
   ]
  },
  {
   "cell_type": "markdown",
   "metadata": {},
   "source": [
    "## Bayes' Rule\n",
    "\n",
    "The essence of Bayes' Rule is this: there is some sort of **prior probability** (probability *before* you run the test) and then you get some **evidence** from the test itself. This is incorporated into the prior, which leads to a **posterior probability**.\n",
    "\n",
    "In the case of the example above, the prior is \n",
    "\n",
    "$$P(C) = 0.01$$\n",
    "$$P(p|C) = 0.9$$\n",
    "$$P(n|\\neg{C})$$\n",
    "\n",
    "To get the posterior of the probability of cancer, given that the test is positive, we need to compute\n",
    "\n",
    "$$P(C|p) = P(C) P(p|C)$$\n",
    "$$P(\\neg{C}|p) = P(\\neg{C}) P(p|\\neg{C})$$\n",
    "\n",
    "This is about the correct equation, except the probabilities don't add up to 1: $P(C|p)$ = 0.009 and $P(\\neg{C}|p)$ = 0.099. We still need to apply a normalisation: first sum the two probabilities (the probability of a positive test result)\n",
    "\n",
    "$$P(p) = P(C|p) + P(\\neg{C}|p) = 0.108$$\n",
    "\n",
    "and the complete posterior is $P(C|p) divided by this normaliser (the previous two equations are often called the **joint probability**)\n",
    "\n",
    "$$P(C|p) = 0.0833$$\n",
    "$$P(\\neg{C}|p) = 0.9167$$\n",
    "\n",
    "These two numbers add up to 1."
   ]
  },
  {
   "cell_type": "code",
   "execution_count": 5,
   "metadata": {
    "collapsed": false
   },
   "outputs": [
    {
     "data": {
      "text/plain": [
       "0.9166666666666667"
      ]
     },
     "execution_count": 5,
     "metadata": {},
     "output_type": "execute_result"
    }
   ],
   "source": [
    "0.099/0.108"
   ]
  },
  {
   "cell_type": "code",
   "execution_count": null,
   "metadata": {
    "collapsed": true
   },
   "outputs": [],
   "source": []
  }
 ],
 "metadata": {
  "anaconda-cloud": {},
  "kernelspec": {
   "display_name": "Python [conda env:introstats]",
   "language": "python",
   "name": "conda-env-introstats-py"
  },
  "language_info": {
   "codemirror_mode": {
    "name": "ipython",
    "version": 2
   },
   "file_extension": ".py",
   "mimetype": "text/x-python",
   "name": "python",
   "nbconvert_exporter": "python",
   "pygments_lexer": "ipython2",
   "version": "2.7.12"
  }
 },
 "nbformat": 4,
 "nbformat_minor": 1
}
