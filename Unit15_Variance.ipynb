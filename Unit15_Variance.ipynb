{
 "cells": [
  {
   "cell_type": "markdown",
   "metadata": {},
   "source": [
    "# Unit 15 - Variance\n",
    "\n",
    "## Example: ages of friends and family"
   ]
  },
  {
   "cell_type": "code",
   "execution_count": 7,
   "metadata": {
    "collapsed": false
   },
   "outputs": [
    {
     "data": {
      "text/plain": [
       "18.0"
      ]
     },
     "execution_count": 7,
     "metadata": {},
     "output_type": "execute_result"
    }
   ],
   "source": [
    "import numpy as np\n",
    "\n",
    "friends = np.array([17, 19, 18, 17, 19])\n",
    "np.mean(friends)"
   ]
  },
  {
   "cell_type": "code",
   "execution_count": 8,
   "metadata": {
    "collapsed": false
   },
   "outputs": [
    {
     "data": {
      "text/plain": [
       "18.0"
      ]
     },
     "execution_count": 8,
     "metadata": {},
     "output_type": "execute_result"
    }
   ],
   "source": [
    "family = np.array([7, 38, 4, 23, 18])\n",
    "np.mean(family)"
   ]
  },
  {
   "cell_type": "markdown",
   "metadata": {},
   "source": [
    "Both groups have the same mean, but ages in the group of friends are clustered close to the mean, whereas ages of family members are all over the place. To capture the spread of the data we use the **variance**. First, we normalise by subtracting the mean from each data point, then add the squares of the values. The formula is\n",
    "\n",
    "$$\\text{Var} = \\frac{1}{N} \\sum_i (x_i - \\mu)^2$$"
   ]
  },
  {
   "cell_type": "code",
   "execution_count": 20,
   "metadata": {
    "collapsed": false
   },
   "outputs": [
    {
     "data": {
      "text/plain": [
       "0.80000000000000004"
      ]
     },
     "execution_count": 20,
     "metadata": {},
     "output_type": "execute_result"
    }
   ],
   "source": [
    "varfri = np.sum((friends - np.mean(friends))**2)/friends.size\n",
    "varfri"
   ]
  },
  {
   "cell_type": "code",
   "execution_count": 22,
   "metadata": {
    "collapsed": false
   },
   "outputs": [
    {
     "data": {
      "text/plain": [
       "148.40000000000001"
      ]
     },
     "execution_count": 22,
     "metadata": {},
     "output_type": "execute_result"
    }
   ],
   "source": [
    "varfam = np.sum((family - np.mean(family))**2)/family.size\n",
    "varfam"
   ]
  },
  {
   "cell_type": "markdown",
   "metadata": {},
   "source": [
    "The variance is a measure of how far the data is spread. It is the quadratic deviation from the mean. The **standard deviation** is the square root of the variance, and gives an estimate of how much to expect a typical data point to deviate from the mean.\n",
    "\n",
    "The variance is usually denoted with $\\sigma^2$ and the standard deviation with $\\sigma$."
   ]
  },
  {
   "cell_type": "markdown",
   "metadata": {},
   "source": [
    "## Exercises\n",
    "Calculate mean, variance and standard deviation."
   ]
  },
  {
   "cell_type": "code",
   "execution_count": 25,
   "metadata": {
    "collapsed": false
   },
   "outputs": [
    {
     "data": {
      "text/plain": [
       "5"
      ]
     },
     "execution_count": 25,
     "metadata": {},
     "output_type": "execute_result"
    }
   ],
   "source": [
    "data = np.array([3, 4, 5, 6, 7])\n",
    "\n",
    "# Mean\n",
    "datamean = np.sum(data)/data.size\n",
    "datamean"
   ]
  },
  {
   "cell_type": "code",
   "execution_count": 26,
   "metadata": {
    "collapsed": false
   },
   "outputs": [
    {
     "data": {
      "text/plain": [
       "2"
      ]
     },
     "execution_count": 26,
     "metadata": {},
     "output_type": "execute_result"
    }
   ],
   "source": [
    "# Variance\n",
    "datavar = np.sum((data - datamean)**2)/data.size\n",
    "datavar"
   ]
  },
  {
   "cell_type": "code",
   "execution_count": 27,
   "metadata": {
    "collapsed": false
   },
   "outputs": [
    {
     "data": {
      "text/plain": [
       "1.4142135623730951"
      ]
     },
     "execution_count": 27,
     "metadata": {},
     "output_type": "execute_result"
    }
   ],
   "source": [
    "# Standard deviation\n",
    "np.sqrt(datavar)"
   ]
  },
  {
   "cell_type": "code",
   "execution_count": 28,
   "metadata": {
    "collapsed": false
   },
   "outputs": [
    {
     "data": {
      "text/plain": [
       "10"
      ]
     },
     "execution_count": 28,
     "metadata": {},
     "output_type": "execute_result"
    }
   ],
   "source": [
    "data = np.array([8, 9, 10, 11, 12])\n",
    "\n",
    "# Mean\n",
    "datamean = np.sum(data)/data.size\n",
    "datamean"
   ]
  },
  {
   "cell_type": "code",
   "execution_count": 29,
   "metadata": {
    "collapsed": false
   },
   "outputs": [
    {
     "data": {
      "text/plain": [
       "2"
      ]
     },
     "execution_count": 29,
     "metadata": {},
     "output_type": "execute_result"
    }
   ],
   "source": [
    "# Variance\n",
    "datavar = np.sum((data - datamean)**2)/data.size\n",
    "datavar"
   ]
  },
  {
   "cell_type": "code",
   "execution_count": 30,
   "metadata": {
    "collapsed": false
   },
   "outputs": [
    {
     "data": {
      "text/plain": [
       "1.4142135623730951"
      ]
     },
     "execution_count": 30,
     "metadata": {},
     "output_type": "execute_result"
    }
   ],
   "source": [
    "# Standard deviation\n",
    "np.sqrt(datavar)"
   ]
  },
  {
   "cell_type": "markdown",
   "metadata": {},
   "source": [
    "The distribution is similar to the first case - once we subtract the mean, we get the same sequence. Thus, except for the mean we get the same answers here."
   ]
  },
  {
   "cell_type": "code",
   "execution_count": 32,
   "metadata": {
    "collapsed": false
   },
   "outputs": [
    {
     "data": {
      "text/plain": [
       "25"
      ]
     },
     "execution_count": 32,
     "metadata": {},
     "output_type": "execute_result"
    }
   ],
   "source": [
    "data = np.array([15, 20, 25, 30, 35])\n",
    "\n",
    "# Mean\n",
    "datamean = np.sum(data)/data.size\n",
    "datamean"
   ]
  },
  {
   "cell_type": "code",
   "execution_count": 34,
   "metadata": {
    "collapsed": false
   },
   "outputs": [
    {
     "data": {
      "text/plain": [
       "50"
      ]
     },
     "execution_count": 34,
     "metadata": {},
     "output_type": "execute_result"
    }
   ],
   "source": [
    "# Variance\n",
    "datavar = np.sum((data - datamean)**2)/data.size\n",
    "datavar"
   ]
  },
  {
   "cell_type": "code",
   "execution_count": 35,
   "metadata": {
    "collapsed": false
   },
   "outputs": [
    {
     "data": {
      "text/plain": [
       "7.0710678118654755"
      ]
     },
     "execution_count": 35,
     "metadata": {},
     "output_type": "execute_result"
    }
   ],
   "source": [
    "# Standard deviation\n",
    "np.sqrt(datavar)"
   ]
  },
  {
   "cell_type": "markdown",
   "metadata": {},
   "source": [
    "This case is the first series, times 5 - thus the mean and the standard deviation are 5 times those of the first example. The variance is 25 times that of the first example (which is the square of 5)."
   ]
  },
  {
   "cell_type": "code",
   "execution_count": 36,
   "metadata": {
    "collapsed": false
   },
   "outputs": [
    {
     "data": {
      "text/plain": [
       "3"
      ]
     },
     "execution_count": 36,
     "metadata": {},
     "output_type": "execute_result"
    }
   ],
   "source": [
    "data = np.array([3, 3, 3, 3, 3])\n",
    "\n",
    "# Mean\n",
    "datamean = np.sum(data)/data.size\n",
    "datamean"
   ]
  },
  {
   "cell_type": "code",
   "execution_count": 38,
   "metadata": {
    "collapsed": false
   },
   "outputs": [
    {
     "data": {
      "text/plain": [
       "0"
      ]
     },
     "execution_count": 38,
     "metadata": {},
     "output_type": "execute_result"
    }
   ],
   "source": [
    "# Variance\n",
    "datavar = np.sum((data - datamean)**2)/data.size\n",
    "datavar"
   ]
  },
  {
   "cell_type": "markdown",
   "metadata": {},
   "source": [
    "When all datapoints are equal, the mean coincides with their value and both the variance and standard deviation are zero."
   ]
  },
  {
   "cell_type": "markdown",
   "metadata": {},
   "source": [
    "![](meanstdev.png)"
   ]
  },
  {
   "cell_type": "markdown",
   "metadata": {},
   "source": [
    "The problem with the above formulas is that they require two passes over the data: one to get the mean, then another to get the variance.\n",
    "\n",
    "To get the results in just one pass, we rewrite the formula for $\\sigma^2$:\n",
    "\n",
    "$$\\sigma^2 = \\frac{1}{N} \\sum_i (x_i - \\mu)^2$$\n",
    "$$ = \\frac{1}{N} \\sum_i (x_i - \\mu) (x_i - \\mu)$$\n",
    "$$ = \\frac{1}{N} \\sum_i (x_i^2 - 2\\mu x_i + \\mu^2)$$\n",
    "$$ = \\frac{1}{N} \\sum_i x_i^2 - \\frac{2\\mu}{N} \\sum_i x_i + \\mu^2$$\n",
    "$$ = \\frac{1}{N} \\sum_i x_i^2 - 2\\mu^2+ \\mu^2$$\n",
    "$$ = \\frac{1}{N} \\sum_i x_i^2 - \\mu^2$$\n",
    "$$ = \\frac{1}{N} \\sum_i x_i^2 - \\frac{1}{N^2} (\\sum_i x_i)^2$$"
   ]
  },
  {
   "cell_type": "code",
   "execution_count": 47,
   "metadata": {
    "collapsed": false
   },
   "outputs": [
    {
     "data": {
      "text/plain": [
       "25"
      ]
     },
     "execution_count": 47,
     "metadata": {},
     "output_type": "execute_result"
    }
   ],
   "source": [
    "data = np.array([3, 4, 5, 6, 7])\n",
    "\n",
    "# Sum of elements\n",
    "datasum = np.sum(data)\n",
    "datasum"
   ]
  },
  {
   "cell_type": "code",
   "execution_count": 48,
   "metadata": {
    "collapsed": false
   },
   "outputs": [
    {
     "data": {
      "text/plain": [
       "135"
      ]
     },
     "execution_count": 48,
     "metadata": {},
     "output_type": "execute_result"
    }
   ],
   "source": [
    "# Sum of squared elements\n",
    "datasq = np.sum(data**2)\n",
    "datasq"
   ]
  },
  {
   "cell_type": "code",
   "execution_count": 50,
   "metadata": {
    "collapsed": false
   },
   "outputs": [
    {
     "data": {
      "text/plain": [
       "5"
      ]
     },
     "execution_count": 50,
     "metadata": {},
     "output_type": "execute_result"
    }
   ],
   "source": [
    "# Mean\n",
    "datamean = datasum/data.size\n",
    "datamean"
   ]
  },
  {
   "cell_type": "code",
   "execution_count": 52,
   "metadata": {
    "collapsed": false
   },
   "outputs": [
    {
     "data": {
      "text/plain": [
       "2"
      ]
     },
     "execution_count": 52,
     "metadata": {},
     "output_type": "execute_result"
    }
   ],
   "source": [
    "# Variance\n",
    "datavar = datasq/data.size - datamean**2\n",
    "datavar"
   ]
  },
  {
   "cell_type": "markdown",
   "metadata": {},
   "source": [
    "## Example: raise\n",
    "An employer is considering giving a raise. Calculate the effect of the raise on the mean and standard deviation, considering two scenarios: a) a fixed amount of $1,000 or b) a relative raise of 20%.\n",
    "\n",
    "First case:\n",
    "\n",
    "$$\\mu' = \\frac{1}{N} \\sum_i (x_i + 1000) = \\frac{1}{N} \\sum_i x_i + \\frac{N \\times 1000}{N} = \\mu + 1000$$\n",
    "\n",
    "$$\\sigma'^2 = \\frac{1}{N} \\sum_i \\left[(x_i + 1000) - \\mu'\\right]^2 = \\frac{1}{N} \\sum_i (x_i + 1000 - \\mu - 1000)^2 = \\sigma^2$$\n",
    "\n",
    "Second case:\n",
    "\n",
    "$$\\mu' = \\frac{1}{N} \\sum_i 1.2 x_i = \\frac{1.2}{N} \\sum_i x_i = 1.2 \\mu$$\n",
    "\n",
    "$$\\sigma'^2 = \\frac{1}{N} \\sum_i (1.2 x_i - \\mu')^2 = \\frac{1}{N} \\sum_i (1.2 x_i - 1.2 \\mu)^2 = 1.44 \\sigma^2$$"
   ]
  },
  {
   "cell_type": "markdown",
   "metadata": {},
   "source": [
    "## Standard score\n",
    "\n",
    "Given a point $x$ on a distribution which can be described as Gaussian,\n",
    "\n",
    "$$ z = \\frac{x - \\mu}{\\sigma}$$"
   ]
  },
  {
   "cell_type": "code",
   "execution_count": 55,
   "metadata": {
    "collapsed": false
   },
   "outputs": [
    {
     "data": {
      "text/plain": [
       "-2.1213203435596424"
      ]
     },
     "execution_count": 55,
     "metadata": {},
     "output_type": "execute_result"
    }
   ],
   "source": [
    "x = 2\n",
    "\n",
    "sig = np.sqrt(datavar)\n",
    "z = (x - datamean)/sig\n",
    "z"
   ]
  },
  {
   "cell_type": "code",
   "execution_count": 56,
   "metadata": {
    "collapsed": false
   },
   "outputs": [
    {
     "data": {
      "text/plain": [
       "0.0"
      ]
     },
     "execution_count": 56,
     "metadata": {},
     "output_type": "execute_result"
    }
   ],
   "source": [
    "x = 5\n",
    "\n",
    "z = (x - datamean)/sig\n",
    "z"
   ]
  },
  {
   "cell_type": "code",
   "execution_count": null,
   "metadata": {
    "collapsed": true
   },
   "outputs": [],
   "source": []
  }
 ],
 "metadata": {
  "kernelspec": {
   "display_name": "Python [conda env:introstats]",
   "language": "python",
   "name": "conda-env-introstats-py"
  },
  "language_info": {
   "codemirror_mode": {
    "name": "ipython",
    "version": 2
   },
   "file_extension": ".py",
   "mimetype": "text/x-python",
   "name": "python",
   "nbconvert_exporter": "python",
   "pygments_lexer": "ipython2",
   "version": "2.7.12"
  }
 },
 "nbformat": 4,
 "nbformat_minor": 1
}
