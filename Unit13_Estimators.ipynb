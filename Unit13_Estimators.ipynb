{
 "cells": [
  {
   "cell_type": "markdown",
   "metadata": {},
   "source": [
    "# Unit 13 - Estimators\n",
    "\n",
    "## Coin flips\n",
    "\n",
    "Suppose we have a coin and we flip it six times, obtaining the following sequence: 1 0 0 1 0 1 (where 1 = heads, 0 = tails). What would we say if we were asked what $P(H)$ is for this coin? Given the sequence of flips, we would guess $P(H)$ = 0.5.\n",
    "\n",
    "If we have a different coin and we flip it five times, obtaining 1 1 0 1 1, we would now guess $P(H)$ = 4/5 = 0.8. We're calculating the **empirical frequency**, that is, based on observations.\n",
    "\n",
    "Using the same method, for a coin which only comes up tails in seven flips, we would guess $P(H)$ = 0.\n",
    "\n",
    "If we label our sequence of data $x_1, x_2, \\dots x_N$ what we are calculating is the sum of the outcomes, divided the total number of experiments:\n",
    "\n",
    "$$\\frac{1}{N} \\sum_i x_i$$\n",
    "\n",
    "this number is always between 0 and 1 and is called the **maximum likelihood estimator** (MLE). We are using it to *estimate* the underlying probability which may be generating the observed sequence."
   ]
  },
  {
   "cell_type": "markdown",
   "metadata": {},
   "source": [
    "## Roll of a die\n",
    "\n",
    "Now let's imagine we have a six-sided die, which we roll 10 times obtaining the following sequence: 1 6 6 3 2 6 5 4 6 2. What is the probability of each one of the possible rolls of the die? We use the MLE again:"
   ]
  },
  {
   "cell_type": "code",
   "execution_count": 1,
   "metadata": {
    "collapsed": false
   },
   "outputs": [
    {
     "name": "stdout",
     "output_type": "stream",
     "text": [
      "P(1) = 0.1\n",
      "P(2) = 0.2\n",
      "P(3) = 0.1\n",
      "P(4) = 0.1\n",
      "P(5) = 0.1\n",
      "P(6) = 0.4\n"
     ]
    }
   ],
   "source": [
    "from __future__ import print_function, division\n",
    "\n",
    "print(\"P(1) = {}\".format(1/10))\n",
    "print(\"P(2) = {}\".format(2/10))\n",
    "print(\"P(3) = {}\".format(1/10))\n",
    "print(\"P(4) = {}\".format(1/10))\n",
    "print(\"P(5) = {}\".format(1/10))\n",
    "print(\"P(6) = {}\".format(4/10))"
   ]
  },
  {
   "cell_type": "markdown",
   "metadata": {},
   "source": [
    "If we add them up, the result is 1. "
   ]
  },
  {
   "cell_type": "markdown",
   "metadata": {},
   "source": [
    "## Maximum likelihood estimator\n",
    "\n",
    "The **estimation problem** is: given data, find the probability $P$. Previously we had the inverse problem: given a fixed probability $P$, calculate the probability of the observed data.\n",
    "\n",
    "Let's consider the following sequence of coin flips: 1 0 1. Let's calculate the probability of obtaining that sequence for values of $P(H)$ in the possible range, and then plot them."
   ]
  },
  {
   "cell_type": "code",
   "execution_count": 9,
   "metadata": {
    "collapsed": false
   },
   "outputs": [
    {
     "data": {
      "image/png": "[encoded data removed]",
      "text/plain": [
       "<matplotlib.figure.Figure at 0x7fc08b40af50>"
      ]
     },
     "metadata": {},
     "output_type": "display_data"
    }
   ],
   "source": [
    "import matplotlib.pyplot as plt\n",
    "import numpy as np\n",
    "\n",
    "pcoin = [x / 1000 for x in range(0, 1001)]\n",
    "probs = [p*(1-p)*p for p in pcoin]\n",
    "\n",
    "x = np.array(pcoin)\n",
    "y = np.array(probs)\n",
    "\n",
    "plt.plot(x, y)\n",
    "plt.xlim(0, 1)\n",
    "plt.xlabel(\"P(H)\")\n",
    "plt.ylabel(\"Probability of sequence\")\n",
    "plt.ylim(0,0.2)\n",
    "\n",
    "plt.plot((2/3, 2/3), (0, 0.2), '--')\n",
    "plt.show();"
   ]
  },
  {
   "cell_type": "markdown",
   "metadata": {},
   "source": [
    "As $P(H)$ increases from zero, the probability of observing the 1 0 1 sequence increases up to a maximum and then decreases. The maximum value is reached when $P(H)$ = 2/3, the value of the MLE (shown with a dashed green line in the plot); hence its name."
   ]
  },
  {
   "cell_type": "markdown",
   "metadata": {},
   "source": [
    "## Weakness of the MLE\n",
    "\n",
    "Say we pick a fair coin, and we flip it **only once**. If we obtain 1, the MLE would say we have $P(H)$ = 1, and if we get 0 we would have $P(H)$ = 0. *This for the same coin!* For a single coin flip, the MLE will **always** assume the coin is loaded.\n",
    "\n",
    "If we now consider an odd number of flips we will always have different numbers of heads and tails. Thus, in that case the MLE will also always assume the coin is biased.\n",
    "\n",
    "The solution is to *add fake data points*. In the case of only one flip, add two extra points: one heads, one tails."
   ]
  },
  {
   "cell_type": "code",
   "execution_count": 3,
   "metadata": {
    "collapsed": false
   },
   "outputs": [
    {
     "name": "stdout",
     "output_type": "stream",
     "text": [
      "Original MLE: P = 1\n",
      "With fake data: P = 0.666666666667\n"
     ]
    }
   ],
   "source": [
    "print(\"Original MLE: P = 1\")\n",
    "print(\"With fake data: P = {}\".format(2/3))"
   ]
  },
  {
   "cell_type": "markdown",
   "metadata": {},
   "source": [
    "For the case of the 0 0 1 sequence:"
   ]
  },
  {
   "cell_type": "code",
   "execution_count": 4,
   "metadata": {
    "collapsed": false
   },
   "outputs": [
    {
     "name": "stdout",
     "output_type": "stream",
     "text": [
      "Original MLE: P = 0.333333333333\n",
      "With fake data: P = 0.4\n"
     ]
    }
   ],
   "source": [
    "print(\"Original MLE: P = {}\".format(1/3))\n",
    "print(\"With fake data: P = {}\".format(2/5))"
   ]
  },
  {
   "cell_type": "markdown",
   "metadata": {},
   "source": [
    "Now for 1 0 1 0:"
   ]
  },
  {
   "cell_type": "code",
   "execution_count": 5,
   "metadata": {
    "collapsed": false
   },
   "outputs": [
    {
     "name": "stdout",
     "output_type": "stream",
     "text": [
      "Original MLE: P = 0.5\n",
      "With fake data: P = 0.5\n"
     ]
    }
   ],
   "source": [
    "print(\"Original MLE: P = {}\".format(2/4))\n",
    "print(\"With fake data: P = {}\".format(3/6))"
   ]
  },
  {
   "cell_type": "markdown",
   "metadata": {},
   "source": [
    "Finally, for 1 1:"
   ]
  },
  {
   "cell_type": "code",
   "execution_count": 6,
   "metadata": {
    "collapsed": false
   },
   "outputs": [
    {
     "name": "stdout",
     "output_type": "stream",
     "text": [
      "Original MLE: P = 1.0\n",
      "With fake data: P = 0.75\n"
     ]
    }
   ],
   "source": [
    "print(\"Original MLE: P = {}\".format(2/2))\n",
    "print(\"With fake data: P = {}\".format(3/4))"
   ]
  },
  {
   "cell_type": "markdown",
   "metadata": {},
   "source": [
    "The new estimator \"pulls\" the original MLE results towards 0.5. Also, for a single observation of heads, say, we wouldn't like to say \"this coin will always come up heads\"; it's possible, but not certain. Now, if we get heads twice in a row, then we would say it's more likely that the coin is biased towards coming up heads. With the new estimator, a single observation of heads does not result in 1, and the estimator for two heads in a row is higher - as we would like it to be.\n",
    "\n",
    "The method of adding fake data is called **Laplacian estimator**. It is much better than the MLE when data is scarce, and tends to the same result as the MLE for many datapoints."
   ]
  },
  {
   "cell_type": "markdown",
   "metadata": {},
   "source": [
    "## Dice example\n",
    "\n",
    "Say we observe the following sequence: 1 2 3 2. For the Laplacian estimator, we now have to add one data point for each of the six possible outcomes."
   ]
  },
  {
   "cell_type": "code",
   "execution_count": 7,
   "metadata": {
    "collapsed": false
   },
   "outputs": [
    {
     "name": "stdout",
     "output_type": "stream",
     "text": [
      "MLE: P(1) = 0.25\n",
      "Laplace: P(1) = 0.2\n"
     ]
    }
   ],
   "source": [
    "print(\"MLE: P(1) = {}\".format(1/4))\n",
    "print(\"Laplace: P(1) = {}\".format(2/10))"
   ]
  },
  {
   "cell_type": "code",
   "execution_count": 8,
   "metadata": {
    "collapsed": false
   },
   "outputs": [
    {
     "name": "stdout",
     "output_type": "stream",
     "text": [
      "MLE: P(2) = 0.5\n",
      "Laplace: P(2) = 0.3\n"
     ]
    }
   ],
   "source": [
    "print(\"MLE: P(2) = {}\".format(2/4))\n",
    "print(\"Laplace: P(2) = {}\".format(3/10))"
   ]
  },
  {
   "cell_type": "markdown",
   "metadata": {},
   "source": [
    "## Laplace estimator\n",
    "\n",
    "The Laplace estimator's formula is\n",
    "\n",
    "$$\\frac{1}{N + k} \\left(1 + \\sum_i x_i\\right)$$\n",
    "\n",
    "where $k$ is the number of possible outcomes and $N$ is the total number of experiments.\n",
    "\n",
    "Faking data gives better results!"
   ]
  },
  {
   "cell_type": "code",
   "execution_count": null,
   "metadata": {
    "collapsed": true
   },
   "outputs": [],
   "source": []
  }
 ],
 "metadata": {
  "kernelspec": {
   "display_name": "Python [conda env:introstats]",
   "language": "python",
   "name": "conda-env-introstats-py"
  },
  "language_info": {
   "codemirror_mode": {
    "name": "ipython",
    "version": 2
   },
   "file_extension": ".py",
   "mimetype": "text/x-python",
   "name": "python",
   "nbconvert_exporter": "python",
   "pygments_lexer": "ipython2",
   "version": "2.7.12"
  }
 },
 "nbformat": 4,
 "nbformat_minor": 1
}
