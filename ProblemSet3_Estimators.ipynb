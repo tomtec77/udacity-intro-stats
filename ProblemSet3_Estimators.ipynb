{
 "cells": [
  {
   "cell_type": "markdown",
   "metadata": {},
   "source": [
    "# Problem Set 3: Estimators\n",
    "\n",
    "## MLE Proof\n",
    "\n",
    "Suppose we have a random sample $X_1, X_2, \\dots X_N$ whose assumed probability distribution depends on some unknown parameter $\\theta$. The observed values of the sample are $x_1, x_2, \\dots x_N$. We want to find an estimator $u(X_1, X_2, \\dots X_N)$ such that $u(x_1, x_2, \\dots x_N)$ is a \"good\" estimate of $\\theta$. It seems reasonable that such an estimate of the unknown parameter $\\theta$ would be the value of $u$ that maximises the probability, or the likelihood, of getting the actual data we observed.\n",
    "\n",
    "If the probability density function of each $X_i$ is $f(x_i; \\theta)$, the joint probability mass (or density) function of $X_1, X_2, \\dots X_N$ is\n",
    "\n",
    "$$L(\\theta) = P(X_1 = x_1, X_2 = x_2, \\dots X_N = x_N) = \\prod_i^N f(x_i; \\theta)$$\n",
    "\n",
    "Assuming that the $X_i$ are independent Bernoulli random variables with unknown parameter $p$, the probability mass function of each $X_i$ is\n",
    "\n",
    "$$f(x_i; p) = p^{x_i} (1-p)^{1-x_i}$$\n",
    "\n",
    "In order to maximise the function, we need to find the $p$ that maximises the likelihood $L(p)$. To make the differentiation easier, we note that the value of $p$ that maximises $\\ln \\left[L(p)\\right]$ will also maximise $L(p)$.\n",
    "\n",
    "$$\\ln[L(p)] = \\ln \\left[ \\prod_i p^{x_i} (1-p)^{1-x_i} \\right] = \\sum_i \\left[x_i \\ln(p) + (1-x_i) \\ln(1-p) \\right]$$\n",
    "\n",
    "Take the first derivative with respect to $p$, and set it to zero:\n",
    "\n",
    "$$\\frac{\\partial}{\\partial p} \\ln[L(p)] = \\sum_i \\left[\\frac{x_i}{p} - \\frac{1-x_i}{1-p} \\right] = 0$$\n",
    "\n",
    "Multiply both sides by $p (1-p)$:\n",
    "\n",
    "$$ \\sum_i \\left[(1-p) x_i - p (1 - x_i)\\right] = \\sum_i (x_i - p) = 0$$\n",
    "\n",
    "$$\\sum_i x_i - N p = 0$$\n",
    "\n",
    "Thus, we finally get\n",
    "\n",
    "$$p = \\frac{1}{N} \\sum_i x_i$$\n",
    "\n",
    "Source: https://onlinecourses.science.psu.edu/stat414/node/191"
   ]
  },
  {
   "cell_type": "markdown",
   "metadata": {},
   "source": [
    "## Standardize and scale data\n",
    "\n",
    "Suppose you have a set of data $x_1, x_2, \\dots x_N$ with mean 5, standard deviation 4 and variance 16. If $x_i =$ 9, what is its standard score?"
   ]
  },
  {
   "cell_type": "code",
   "execution_count": 16,
   "metadata": {
    "collapsed": false
   },
   "outputs": [
    {
     "name": "stdout",
     "output_type": "stream",
     "text": [
      "1.0\n"
     ]
    }
   ],
   "source": [
    "from __future__ import print_function, division\n",
    "\n",
    "xi = 9\n",
    "mu = 5\n",
    "sd = 4\n",
    "\n",
    "print((xi-mu)/sd)"
   ]
  },
  {
   "cell_type": "markdown",
   "metadata": {},
   "source": [
    "Now let's multiply every data point by 1.5 and calculate the new mean, variance and standard deviation. Also calculate the new standard score $z$ of the point we considered earlier.\n",
    "\n",
    "$$\\mu' = \\sum_i x_i'= \\sum_i (1.5 x_i) = 1.5 \\mu$$\n",
    "\n",
    "$$\\sigma'^2 = \\frac{1}{N} \\sum_i (1.5 x_i - \\mu')^2 = \\frac{1}{N} \\sum_i (1.5 x_i - 1.5 \\mu)^2 = 2.25 \\sigma^2$$"
   ]
  },
  {
   "cell_type": "code",
   "execution_count": 17,
   "metadata": {
    "collapsed": false
   },
   "outputs": [
    {
     "name": "stdout",
     "output_type": "stream",
     "text": [
      "13.5\n",
      "1.0\n"
     ]
    }
   ],
   "source": [
    "xi = 1.5*xi\n",
    "mu = 1.5*mu\n",
    "sd = 1.5*sd\n",
    "\n",
    "print(xi)\n",
    "print((xi-mu)/sd)"
   ]
  },
  {
   "cell_type": "markdown",
   "metadata": {},
   "source": [
    "## Scatter plot spread\n",
    "\n",
    "If we have the following plot of adult height vs child height,\n",
    "\n",
    "![](scatterplot.png)\n",
    "\n",
    "which of two variables has the largest variance?\n",
    "\n",
    "*Answer: adult height - look at how the data is spread out with respect to the mean for each variable.*"
   ]
  },
  {
   "cell_type": "markdown",
   "metadata": {},
   "source": [
    "## Histogram averages\n",
    "\n",
    "In the following histogram, what are the mean, median and mode?\n",
    "\n",
    "![](histogram.png)"
   ]
  },
  {
   "cell_type": "code",
   "execution_count": 18,
   "metadata": {
    "collapsed": false
   },
   "outputs": [
    {
     "name": "stdout",
     "output_type": "stream",
     "text": [
      "4.0\n"
     ]
    }
   ],
   "source": [
    "mean = (1 + 2*2 + 3*3 + 2*4 + 5 + 6 + 11)/(1 + 2 + 3 + 2 + 1 + 1 + 1)\n",
    "print(mean)"
   ]
  },
  {
   "cell_type": "markdown",
   "metadata": {},
   "source": [
    "The value 3 is both the median and the mode."
   ]
  },
  {
   "cell_type": "code",
   "execution_count": null,
   "metadata": {
    "collapsed": true
   },
   "outputs": [],
   "source": []
  }
 ],
 "metadata": {
  "kernelspec": {
   "display_name": "Python [conda env:introstats]",
   "language": "python",
   "name": "conda-env-introstats-py"
  },
  "language_info": {
   "codemirror_mode": {
    "name": "ipython",
    "version": 2
   },
   "file_extension": ".py",
   "mimetype": "text/x-python",
   "name": "python",
   "nbconvert_exporter": "python",
   "pygments_lexer": "ipython2",
   "version": "2.7.12"
  }
 },
 "nbformat": 4,
 "nbformat_minor": 1
}
