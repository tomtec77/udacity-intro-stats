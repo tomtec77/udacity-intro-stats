{
 "cells": [
  {
   "cell_type": "markdown",
   "metadata": {},
   "source": [
    "# Unit 18 - Binomial Distribution\n",
    "\n",
    "We now flip more than one coin, and we ask how many possible combinations yield the same number of heads and tails.\n",
    "\n",
    "- For 2 coins, it's two possible cases ($H T$ and $T H$).\n",
    "- For 4 coins, it's 6 possibilities ($H H T T$, $H T H T$, $H T T H$, $T H H T$, $T T H H$, $T H T H$).\n",
    "- If the number of coins is odd, there's no way we can get the same number of $H$ and $T$."
   ]
  },
  {
   "cell_type": "code",
   "execution_count": null,
   "metadata": {
    "collapsed": true
   },
   "outputs": [],
   "source": []
  }
 ],
 "metadata": {
  "kernelspec": {
   "display_name": "Python [conda env:introstats]",
   "language": "python",
   "name": "conda-env-introstats-py"
  },
  "language_info": {
   "codemirror_mode": {
    "name": "ipython",
    "version": 2
   },
   "file_extension": ".py",
   "mimetype": "text/x-python",
   "name": "python",
   "nbconvert_exporter": "python",
   "pygments_lexer": "ipython2",
   "version": "2.7.12"
  }
 },
 "nbformat": 4,
 "nbformat_minor": 1
}
