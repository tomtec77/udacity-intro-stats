{
 "cells": [
  {
   "cell_type": "markdown",
   "metadata": {},
   "source": [
    "# Unit 9 - Conditional Probability\n",
    "\n",
    "## Medical example\n",
    "Let's suppose that we have a patient who may be suffering from a form of cancer. The probability of having that particular cancer is $P(\\text{cancer})$ = 0.1. We don't know if the patient is really ill, but we run a test. If the person does have the cancer, then the test yields a positive result 90% of the time (the test isn't exactly deterministic).\n",
    "\n",
    "This is called **conditional probability** and is written as\n",
    "\n",
    "$$P(\\text{positive }|\\text{ cancer}) = 0.9$$\n",
    "$$P(\\text{negative }|\\text{ cancer}) = 0.1$$\n",
    "\n",
    "That is, the probability of the test giving a positive results *conditional on* the person actually having the cancer is 0.9. If the person does not have the cancer:\n",
    "\n",
    "$$P(\\text{positive }|\\neg\\text{cancer}) = 0.2$$\n",
    "$$P(\\text{negative }|\\neg\\text{cancer}) = 0.8$$\n",
    "\n",
    "In both cases, probabilities add up to 1. We can now build up the truth table for all possible cases: writing 'p' and 'n' for positive and negative, respectively,\n",
    "\n",
    "Cancer | Test | $P$\n",
    "-------|------|----\n",
    "Y | p | 0.09\n",
    "Y | n | 0.01\n",
    "N | p | 0.18\n",
    "N | n | 0.72\n",
    "\n",
    "For the first row, the probability of a person having cancer is 0.1, times the probability of the test giving a positive result given that the person has the cancer (0.9), gives 0.09. Continue like this for the other rows. The total sum of the probabilities has to be 1.\n",
    "\n",
    "What is the probability of obtaining a **positive** test result? From the truth table, sum all the probabilities corresponding to positive test results: 0.09 + 0.18 = 0.27.\n",
    "\n",
    "In mathematical notation, the probability of a positive test result is\n",
    "\n",
    "$$P(p) = P(p | C) P(C) + P(p | \\neg{C}) P(\\neg{C})$$\n",
    "\n",
    "This is called **total probability**."
   ]
  },
  {
   "cell_type": "markdown",
   "metadata": {},
   "source": [
    "## Two coins example\n",
    "We have a bag of two coins: one is fair ($P_1(H)$ = $P_1(T)$ = 0.5), the other one loaded ($P_2(H)$ = 0.9, $P_2(T)$ = 0.1). If we pick one of the coins with equal probability ($P(1)$ = $P(2)$ = 0.5) and we flip it once, what is the probability of getting heads?\n",
    "\n",
    "Using the expression above for total probability, we get\n",
    "\n",
    "$$P(H) = P(H | 1) P(1) + P(H | 2) P(2) = 0.5 (0.5 + 0.9) = 0.7$$\n",
    "\n",
    "or using a truth table,\n",
    "\n",
    "Pick | Flip | $P$\n",
    "-----|------|----\n",
    "1 | H | 0.25\n",
    "1 | T | 0.25\n",
    "2 | H | 0.45\n",
    "2 | T | 0.05\n",
    "\n",
    "If we flip the randomly chosen coin twice, what is the probability of getting first $H$, then $T$? We only really need to consider the favorable cases:\n",
    "\n",
    "Pick | Flip 1 | Flip 2 | $P$\n",
    "-----|--------|--------|----\n",
    "1 | H | T | 0.125\n",
    "2 | H | T | 0.045\n",
    "\n",
    "Now if **both** coins are loaded with $P_1(H)$ = 1, $P_2(H)$ = 0.6, what is the probability of obtaining two tails in a row?\n",
    "\n",
    "Pick | Flip 1 | Flip 2 | $P$\n",
    "-----|--------|--------|----\n",
    "1 | T | T | 0\n",
    "2 | T | T | 0.08\n",
    "\n",
    "The first coin never comes up tails, so the final result is 0.08."
   ]
  },
  {
   "cell_type": "code",
   "execution_count": null,
   "metadata": {
    "collapsed": true
   },
   "outputs": [],
   "source": []
  }
 ],
 "metadata": {
  "anaconda-cloud": {},
  "kernelspec": {
   "display_name": "Python [conda env:introstats]",
   "language": "python",
   "name": "conda-env-introstats-py"
  },
  "language_info": {
   "codemirror_mode": {
    "name": "ipython",
    "version": 2
   },
   "file_extension": ".py",
   "mimetype": "text/x-python",
   "name": "python",
   "nbconvert_exporter": "python",
   "pygments_lexer": "ipython2",
   "version": "2.7.12"
  }
 },
 "nbformat": 4,
 "nbformat_minor": 1
}
